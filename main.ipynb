{
 "cells": [
  {
   "cell_type": "code",
   "execution_count": 6,
   "metadata": {},
   "outputs": [],
   "source": [
    "from pymongo import MongoClient\n",
    "from datetime import datetime"
   ]
  },
  {
   "cell_type": "markdown",
   "metadata": {},
   "source": [
    "# Conexão com o MongoDB"
   ]
  },
  {
   "cell_type": "code",
   "execution_count": 7,
   "metadata": {},
   "outputs": [],
   "source": [
    "MONGO_URI = \"mongodb://0.0.0.0:27017\"\n",
    "client = MongoClient(MONGO_URI)"
   ]
  },
  {
   "cell_type": "markdown",
   "metadata": {},
   "source": [
    "# Seleção do banco de dados e coleção"
   ]
  },
  {
   "cell_type": "code",
   "execution_count": 8,
   "metadata": {},
   "outputs": [],
   "source": [
    "db = client[\"workshop_db\"]\n",
    "collection = db[\"workshop_collection\"]"
   ]
  },
  {
   "cell_type": "markdown",
   "metadata": {},
   "source": [
    "# Inserindo dados"
   ]
  },
  {
   "cell_type": "code",
   "execution_count": 19,
   "metadata": {},
   "outputs": [],
   "source": [
    "documents = [\n",
    "        {\n",
    "            \"name\": \"Alice\",\n",
    "            \"age\": 25,\n",
    "            \"city\": \"São Paulo\",\n",
    "            \"hobbies\": [\"reading\", \"traveling\"],\n",
    "            \"purchases\": [\n",
    "                {\"item\": \"book\", \"price\": 30, \"date\": datetime(2024, 12, 10)},\n",
    "                {\"item\": \"laptop\", \"price\": 5000, \"date\": datetime(2024, 11, 5)},\n",
    "            ],\n",
    "        },\n",
    "        {\n",
    "            \"name\": \"Bob\",\n",
    "            \"age\": 30,\n",
    "            \"city\": \"Rio de Janeiro\",\n",
    "            \"hobbies\": [\"sports\", \"music\"],\n",
    "            \"purchases\": [\n",
    "                {\"item\": \"guitar\", \"price\": 1500, \"date\": datetime(2024, 10, 15)},\n",
    "                {\"item\": \"headphones\", \"price\": 200, \"date\": datetime(2024, 12, 1)},\n",
    "            ],\n",
    "        },\n",
    "        {\n",
    "            \"name\": \"Charlie\",\n",
    "            \"age\": 35,\n",
    "            \"city\": \"Belo Horizonte\",\n",
    "            \"hobbies\": [\"photography\", \"traveling\"],\n",
    "            \"purchases\": [\n",
    "                {\"item\": \"camera\", \"price\": 3500, \"date\": datetime(2024, 8, 20)},\n",
    "            ],\n",
    "        },\n",
    "        {\n",
    "            \"name\": \"Diana\",\n",
    "            \"age\": 28,\n",
    "            \"city\": \"Curitiba\",\n",
    "            \"hobbies\": [\"cooking\", \"dancing\"],\n",
    "            \"purchases\": [\n",
    "                {\"item\": \"mixer\", \"price\": 300, \"date\": datetime(2024, 9, 10)},\n",
    "                {\"item\": \"shoes\", \"price\": 150, \"date\": datetime(2024, 10, 1)},\n",
    "            ],\n",
    "        },\n",
    "    ]\n",
    "result = collection.insert_many(documents)"
   ]
  },
  {
   "cell_type": "code",
   "execution_count": 20,
   "metadata": {},
   "outputs": [
    {
     "name": "stdout",
     "output_type": "stream",
     "text": [
      "Documentos inseridos: [ObjectId('6761d5ddb8ade5c5e16959d8'), ObjectId('6761d5ddb8ade5c5e16959d9'), ObjectId('6761d5ddb8ade5c5e16959da'), ObjectId('6761d5ddb8ade5c5e16959db')]\n"
     ]
    }
   ],
   "source": [
    "print(f\"Documentos inseridos: {result.inserted_ids}\")"
   ]
  },
  {
   "cell_type": "markdown",
   "metadata": {},
   "source": [
    "# Consulta campos aninhados e arrays."
   ]
  },
  {
   "cell_type": "code",
   "execution_count": 21,
   "metadata": {},
   "outputs": [
    {
     "name": "stdout",
     "output_type": "stream",
     "text": [
      "\n",
      "Usuários com hobbies que incluem 'traveling':\n",
      "{'_id': ObjectId('6761d5c1b8ade5c5e16959d4'), 'name': 'Alice', 'age': 25, 'city': 'São Paulo', 'hobbies': ['reading', 'traveling'], 'purchases': [{'item': 'book', 'price': 30, 'date': datetime.datetime(2024, 12, 10, 0, 0)}, {'item': 'laptop', 'price': 5000, 'date': datetime.datetime(2024, 11, 5, 0, 0)}]}\n",
      "{'_id': ObjectId('6761d5c1b8ade5c5e16959d6'), 'name': 'Charlie', 'age': 35, 'city': 'Belo Horizonte', 'hobbies': ['photography', 'traveling'], 'purchases': [{'item': 'camera', 'price': 3500, 'date': datetime.datetime(2024, 8, 20, 0, 0)}]}\n",
      "{'_id': ObjectId('6761d5ddb8ade5c5e16959d8'), 'name': 'Alice', 'age': 25, 'city': 'São Paulo', 'hobbies': ['reading', 'traveling'], 'purchases': [{'item': 'book', 'price': 30, 'date': datetime.datetime(2024, 12, 10, 0, 0)}, {'item': 'laptop', 'price': 5000, 'date': datetime.datetime(2024, 11, 5, 0, 0)}]}\n",
      "{'_id': ObjectId('6761d5ddb8ade5c5e16959da'), 'name': 'Charlie', 'age': 35, 'city': 'Belo Horizonte', 'hobbies': ['photography', 'traveling'], 'purchases': [{'item': 'camera', 'price': 3500, 'date': datetime.datetime(2024, 8, 20, 0, 0)}]}\n"
     ]
    }
   ],
   "source": [
    "print(\"\\nUsuários com hobbies que incluem 'traveling':\")\n",
    "for doc in collection.find({\"hobbies\": \"traveling\"}):\n",
    "    print(doc)"
   ]
  },
  {
   "cell_type": "markdown",
   "metadata": {},
   "source": [
    "# Exemplo avançado de agregação."
   ]
  },
  {
   "cell_type": "code",
   "execution_count": 22,
   "metadata": {},
   "outputs": [
    {
     "name": "stdout",
     "output_type": "stream",
     "text": [
      "\n",
      "Agregação avançada (gastos totais por usuário):\n",
      "{'_id': 'Alice', 'total_spent': 10060, 'average_spent': 2515.0, 'max_spent': 5000}\n",
      "{'_id': 'Bob', 'total_spent': 8500, 'average_spent': 850.0, 'max_spent': 1500}\n",
      "{'_id': 'Charlie', 'total_spent': 7000, 'average_spent': 3500.0, 'max_spent': 3500}\n",
      "{'_id': 'Diana', 'total_spent': 2250, 'average_spent': 225.0, 'max_spent': 300}\n"
     ]
    }
   ],
   "source": [
    "pipeline = [\n",
    "    {\"$unwind\": \"$purchases\"},  # Expande o array de compras\n",
    "    {\"$group\": {\n",
    "        \"_id\": \"$name\",\n",
    "        \"total_spent\": {\"$sum\": \"$purchases.price\"},\n",
    "        \"average_spent\": {\"$avg\": \"$purchases.price\"},\n",
    "        \"max_spent\": {\"$max\": \"$purchases.price\"},\n",
    "    }},\n",
    "    {\"$sort\": {\"total_spent\": -1}},  # Ordena pelo total gasto (decrescente)\n",
    "]\n",
    "\n",
    "print(\"\\nAgregação avançada (gastos totais por usuário):\")\n",
    "for result in collection.aggregate(pipeline):\n",
    "    print(result)"
   ]
  },
  {
   "cell_type": "markdown",
   "metadata": {},
   "source": [
    "# Consultas específicas com arrays."
   ]
  },
  {
   "cell_type": "code",
   "execution_count": 23,
   "metadata": {},
   "outputs": [
    {
     "name": "stdout",
     "output_type": "stream",
     "text": [
      "\n",
      "Usuários com mais de uma compra:\n",
      "{'_id': ObjectId('6761d444bdca8c00e24a1315'), 'name': 'Bob', 'age': 30, 'city': 'Rio de Janeiro', 'hobbies': ['sports', 'music'], 'purchases': [{'item': 'guitar', 'price': 1500, 'date': datetime.datetime(2024, 10, 15, 0, 0)}, {'item': 'headphones', 'price': 200, 'date': datetime.datetime(2024, 12, 1, 0, 0)}]}\n",
      "{'_id': ObjectId('6761d444bdca8c00e24a1317'), 'name': 'Diana', 'age': 28, 'city': 'Curitiba', 'hobbies': ['cooking', 'dancing'], 'purchases': [{'item': 'mixer', 'price': 300, 'date': datetime.datetime(2024, 9, 10, 0, 0)}, {'item': 'shoes', 'price': 150, 'date': datetime.datetime(2024, 10, 1, 0, 0)}]}\n",
      "{'_id': ObjectId('6761d519b8ade5c5e16959cd'), 'name': 'Bob', 'age': 30, 'city': 'Rio de Janeiro', 'hobbies': ['sports', 'music'], 'purchases': [{'item': 'guitar', 'price': 1500, 'date': datetime.datetime(2024, 10, 15, 0, 0)}, {'item': 'headphones', 'price': 200, 'date': datetime.datetime(2024, 12, 1, 0, 0)}]}\n",
      "{'_id': ObjectId('6761d519b8ade5c5e16959cf'), 'name': 'Diana', 'age': 28, 'city': 'Curitiba', 'hobbies': ['cooking', 'dancing'], 'purchases': [{'item': 'mixer', 'price': 300, 'date': datetime.datetime(2024, 9, 10, 0, 0)}, {'item': 'shoes', 'price': 150, 'date': datetime.datetime(2024, 10, 1, 0, 0)}]}\n",
      "{'_id': ObjectId('6761d522b8ade5c5e16959d1'), 'name': 'Bob', 'age': 30, 'city': 'Rio de Janeiro', 'hobbies': ['sports', 'music'], 'purchases': [{'item': 'guitar', 'price': 1500, 'date': datetime.datetime(2024, 10, 15, 0, 0)}, {'item': 'headphones', 'price': 200, 'date': datetime.datetime(2024, 12, 1, 0, 0)}]}\n",
      "{'_id': ObjectId('6761d522b8ade5c5e16959d3'), 'name': 'Diana', 'age': 28, 'city': 'Curitiba', 'hobbies': ['cooking', 'dancing'], 'purchases': [{'item': 'mixer', 'price': 300, 'date': datetime.datetime(2024, 9, 10, 0, 0)}, {'item': 'shoes', 'price': 150, 'date': datetime.datetime(2024, 10, 1, 0, 0)}]}\n",
      "{'_id': ObjectId('6761d5c1b8ade5c5e16959d4'), 'name': 'Alice', 'age': 25, 'city': 'São Paulo', 'hobbies': ['reading', 'traveling'], 'purchases': [{'item': 'book', 'price': 30, 'date': datetime.datetime(2024, 12, 10, 0, 0)}, {'item': 'laptop', 'price': 5000, 'date': datetime.datetime(2024, 11, 5, 0, 0)}]}\n",
      "{'_id': ObjectId('6761d5c1b8ade5c5e16959d5'), 'name': 'Bob', 'age': 30, 'city': 'Rio de Janeiro', 'hobbies': ['sports', 'music'], 'purchases': [{'item': 'guitar', 'price': 1500, 'date': datetime.datetime(2024, 10, 15, 0, 0)}, {'item': 'headphones', 'price': 200, 'date': datetime.datetime(2024, 12, 1, 0, 0)}]}\n",
      "{'_id': ObjectId('6761d5c1b8ade5c5e16959d7'), 'name': 'Diana', 'age': 28, 'city': 'Curitiba', 'hobbies': ['cooking', 'dancing'], 'purchases': [{'item': 'mixer', 'price': 300, 'date': datetime.datetime(2024, 9, 10, 0, 0)}, {'item': 'shoes', 'price': 150, 'date': datetime.datetime(2024, 10, 1, 0, 0)}]}\n",
      "{'_id': ObjectId('6761d5ddb8ade5c5e16959d8'), 'name': 'Alice', 'age': 25, 'city': 'São Paulo', 'hobbies': ['reading', 'traveling'], 'purchases': [{'item': 'book', 'price': 30, 'date': datetime.datetime(2024, 12, 10, 0, 0)}, {'item': 'laptop', 'price': 5000, 'date': datetime.datetime(2024, 11, 5, 0, 0)}]}\n",
      "{'_id': ObjectId('6761d5ddb8ade5c5e16959d9'), 'name': 'Bob', 'age': 30, 'city': 'Rio de Janeiro', 'hobbies': ['sports', 'music'], 'purchases': [{'item': 'guitar', 'price': 1500, 'date': datetime.datetime(2024, 10, 15, 0, 0)}, {'item': 'headphones', 'price': 200, 'date': datetime.datetime(2024, 12, 1, 0, 0)}]}\n",
      "{'_id': ObjectId('6761d5ddb8ade5c5e16959db'), 'name': 'Diana', 'age': 28, 'city': 'Curitiba', 'hobbies': ['cooking', 'dancing'], 'purchases': [{'item': 'mixer', 'price': 300, 'date': datetime.datetime(2024, 9, 10, 0, 0)}, {'item': 'shoes', 'price': 150, 'date': datetime.datetime(2024, 10, 1, 0, 0)}]}\n",
      "\n",
      "Usuários que compraram algo em Outubro de 2024:\n",
      "{'_id': ObjectId('6761d444bdca8c00e24a1315'), 'name': 'Bob', 'age': 30, 'city': 'Rio de Janeiro', 'hobbies': ['sports', 'music'], 'purchases': [{'item': 'guitar', 'price': 1500, 'date': datetime.datetime(2024, 10, 15, 0, 0)}, {'item': 'headphones', 'price': 200, 'date': datetime.datetime(2024, 12, 1, 0, 0)}]}\n",
      "{'_id': ObjectId('6761d444bdca8c00e24a1317'), 'name': 'Diana', 'age': 28, 'city': 'Curitiba', 'hobbies': ['cooking', 'dancing'], 'purchases': [{'item': 'mixer', 'price': 300, 'date': datetime.datetime(2024, 9, 10, 0, 0)}, {'item': 'shoes', 'price': 150, 'date': datetime.datetime(2024, 10, 1, 0, 0)}]}\n",
      "{'_id': ObjectId('6761d519b8ade5c5e16959cd'), 'name': 'Bob', 'age': 30, 'city': 'Rio de Janeiro', 'hobbies': ['sports', 'music'], 'purchases': [{'item': 'guitar', 'price': 1500, 'date': datetime.datetime(2024, 10, 15, 0, 0)}, {'item': 'headphones', 'price': 200, 'date': datetime.datetime(2024, 12, 1, 0, 0)}]}\n",
      "{'_id': ObjectId('6761d519b8ade5c5e16959cf'), 'name': 'Diana', 'age': 28, 'city': 'Curitiba', 'hobbies': ['cooking', 'dancing'], 'purchases': [{'item': 'mixer', 'price': 300, 'date': datetime.datetime(2024, 9, 10, 0, 0)}, {'item': 'shoes', 'price': 150, 'date': datetime.datetime(2024, 10, 1, 0, 0)}]}\n",
      "{'_id': ObjectId('6761d522b8ade5c5e16959d1'), 'name': 'Bob', 'age': 30, 'city': 'Rio de Janeiro', 'hobbies': ['sports', 'music'], 'purchases': [{'item': 'guitar', 'price': 1500, 'date': datetime.datetime(2024, 10, 15, 0, 0)}, {'item': 'headphones', 'price': 200, 'date': datetime.datetime(2024, 12, 1, 0, 0)}]}\n",
      "{'_id': ObjectId('6761d522b8ade5c5e16959d3'), 'name': 'Diana', 'age': 28, 'city': 'Curitiba', 'hobbies': ['cooking', 'dancing'], 'purchases': [{'item': 'mixer', 'price': 300, 'date': datetime.datetime(2024, 9, 10, 0, 0)}, {'item': 'shoes', 'price': 150, 'date': datetime.datetime(2024, 10, 1, 0, 0)}]}\n",
      "{'_id': ObjectId('6761d5c1b8ade5c5e16959d5'), 'name': 'Bob', 'age': 30, 'city': 'Rio de Janeiro', 'hobbies': ['sports', 'music'], 'purchases': [{'item': 'guitar', 'price': 1500, 'date': datetime.datetime(2024, 10, 15, 0, 0)}, {'item': 'headphones', 'price': 200, 'date': datetime.datetime(2024, 12, 1, 0, 0)}]}\n",
      "{'_id': ObjectId('6761d5c1b8ade5c5e16959d7'), 'name': 'Diana', 'age': 28, 'city': 'Curitiba', 'hobbies': ['cooking', 'dancing'], 'purchases': [{'item': 'mixer', 'price': 300, 'date': datetime.datetime(2024, 9, 10, 0, 0)}, {'item': 'shoes', 'price': 150, 'date': datetime.datetime(2024, 10, 1, 0, 0)}]}\n",
      "{'_id': ObjectId('6761d5ddb8ade5c5e16959d9'), 'name': 'Bob', 'age': 30, 'city': 'Rio de Janeiro', 'hobbies': ['sports', 'music'], 'purchases': [{'item': 'guitar', 'price': 1500, 'date': datetime.datetime(2024, 10, 15, 0, 0)}, {'item': 'headphones', 'price': 200, 'date': datetime.datetime(2024, 12, 1, 0, 0)}]}\n",
      "{'_id': ObjectId('6761d5ddb8ade5c5e16959db'), 'name': 'Diana', 'age': 28, 'city': 'Curitiba', 'hobbies': ['cooking', 'dancing'], 'purchases': [{'item': 'mixer', 'price': 300, 'date': datetime.datetime(2024, 9, 10, 0, 0)}, {'item': 'shoes', 'price': 150, 'date': datetime.datetime(2024, 10, 1, 0, 0)}]}\n"
     ]
    }
   ],
   "source": [
    "print(\"\\nUsuários com mais de uma compra:\")\n",
    "for doc in collection.find({\"$expr\": {\"$gte\": [{\"$size\": \"$purchases\"}, 2]}}):\n",
    "    print(doc)\n",
    "\n",
    "print(\"\\nUsuários que compraram algo em Outubro de 2024:\")\n",
    "for doc in collection.find({\"purchases.date\": {\n",
    "    \"$gte\": datetime(2024, 10, 1),\n",
    "    \"$lt\": datetime(2024, 11, 1),\n",
    "}}):\n",
    "    print(doc)"
   ]
  },
  {
   "cell_type": "markdown",
   "metadata": {},
   "source": [
    "# Atualizações em campos específicos e arrays."
   ]
  },
  {
   "cell_type": "code",
   "execution_count": 24,
   "metadata": {},
   "outputs": [
    {
     "name": "stdout",
     "output_type": "stream",
     "text": [
      "\n",
      "Documentos atualizados: 1\n"
     ]
    }
   ],
   "source": [
    "result = collection.update_one(\n",
    "        {\"name\": \"Alice\"},\n",
    "        {\"$push\": {\"purchases\": {\"item\": \"phone\", \"price\": 2000, \"date\": datetime(2024, 12, 15)}}}\n",
    "    )\n",
    "print(f\"\\nDocumentos atualizados: {result.modified_count}\")"
   ]
  },
  {
   "cell_type": "markdown",
   "metadata": {},
   "source": [
    "# Exclusão baseada em critérios complexos."
   ]
  },
  {
   "cell_type": "code",
   "execution_count": 25,
   "metadata": {},
   "outputs": [
    {
     "name": "stdout",
     "output_type": "stream",
     "text": [
      "\n",
      "Documentos excluídos: 4\n"
     ]
    }
   ],
   "source": [
    "result = collection.delete_many({\"purchases.price\": {\"$gt\": 3000}})\n",
    "print(f\"\\nDocumentos excluídos: {result.deleted_count}\")"
   ]
  }
 ],
 "metadata": {
  "kernelspec": {
   "display_name": ".venv",
   "language": "python",
   "name": "python3"
  },
  "language_info": {
   "codemirror_mode": {
    "name": "ipython",
    "version": 3
   },
   "file_extension": ".py",
   "mimetype": "text/x-python",
   "name": "python",
   "nbconvert_exporter": "python",
   "pygments_lexer": "ipython3",
   "version": "3.10.12"
  }
 },
 "nbformat": 4,
 "nbformat_minor": 2
}
