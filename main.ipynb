{
 "cells": [
  {
   "cell_type": "code",
   "execution_count": 27,
   "metadata": {},
   "outputs": [],
   "source": [
    "from pymongo import MongoClient\n",
    "from datetime import datetime"
   ]
  },
  {
   "cell_type": "markdown",
   "metadata": {},
   "source": [
    "# Conexão com o MongoDB"
   ]
  },
  {
   "cell_type": "code",
   "execution_count": 3,
   "metadata": {},
   "outputs": [],
   "source": [
    "MONGO_URI = \"mongodb://0.0.0.0:27017\"\n",
    "client = MongoClient(MONGO_URI)"
   ]
  },
  {
   "cell_type": "markdown",
   "metadata": {},
   "source": [
    "# Seleção do banco de dados e coleção"
   ]
  },
  {
   "cell_type": "code",
   "execution_count": 4,
   "metadata": {},
   "outputs": [],
   "source": [
    "db = client[\"workshop_db\"]\n",
    "collection = db[\"workshop_collection\"]"
   ]
  },
  {
   "cell_type": "markdown",
   "metadata": {},
   "source": [
    "# Inserindo dados"
   ]
  },
  {
   "cell_type": "code",
   "execution_count": 28,
   "metadata": {},
   "outputs": [],
   "source": [
    "documents = [\n",
    "    {\n",
    "        \"name\": \"Alice\",\n",
    "        \"age\": 25,\n",
    "        \"city\": \"São Paulo\",\n",
    "        \"hobbies\": [\"reading\", \"traveling\"],\n",
    "        \"purchases\": [\n",
    "            {\"item\": \"book\", \"price\": 30, \"date\": datetime(2024, 12, 10)},\n",
    "            {\"item\": \"laptop\", \"price\": 5000, \"date\": datetime(2024, 11, 5)},\n",
    "        ],\n",
    "    },\n",
    "    {\n",
    "        \"name\": \"Bob\",\n",
    "        \"age\": 30,\n",
    "        \"city\": \"Rio de Janeiro\",\n",
    "        \"hobbies\": [\"sports\", \"music\"],\n",
    "        \"purchases\": [\n",
    "            {\"item\": \"guitar\", \"price\": 1500, \"date\": datetime(2024, 10, 15)},\n",
    "            {\"item\": \"headphones\", \"price\": 200, \"date\": datetime(2024, 12, 1)},\n",
    "        ],\n",
    "    },\n",
    "    {\n",
    "        \"name\": \"Charlie\",\n",
    "        \"age\": 35,\n",
    "        \"city\": \"Belo Horizonte\",\n",
    "        \"hobbies\": [\"photography\", \"traveling\"],\n",
    "        \"purchases\": [\n",
    "            {\"item\": \"camera\", \"price\": 3500, \"date\": datetime(2024, 8, 20)},\n",
    "        ],\n",
    "    },\n",
    "    {\n",
    "        \"name\": \"Diana\",\n",
    "        \"age\": 28,\n",
    "        \"city\": \"Curitiba\",\n",
    "        \"hobbies\": [\"cooking\", \"dancing\"],\n",
    "        \"purchases\": [\n",
    "            {\"item\": \"mixer\", \"price\": 300, \"date\": datetime(2024, 9, 10)},\n",
    "            {\"item\": \"shoes\", \"price\": 150, \"date\": datetime(2024, 10, 1)},\n",
    "        ],\n",
    "    },\n",
    "    {\n",
    "        \"name\": \"Eve\",\n",
    "        \"age\": 22,\n",
    "        \"city\": \"Florianópolis\",\n",
    "        \"hobbies\": [\"surfing\", \"yoga\"],\n",
    "        \"purchases\": [\n",
    "            {\"item\": \"surfboard\", \"price\": 2500, \"date\": datetime(2024, 11, 18)},\n",
    "            {\"item\": \"yoga mat\", \"price\": 100, \"date\": datetime(2024, 9, 5)},\n",
    "        ],\n",
    "    },\n",
    "    {\n",
    "        \"name\": \"Frank\",\n",
    "        \"age\": 40,\n",
    "        \"city\": \"Porto Alegre\",\n",
    "        \"hobbies\": [\"gardening\", \"cooking\"],\n",
    "        \"purchases\": [\n",
    "            {\"item\": \"grill\", \"price\": 800, \"date\": datetime(2024, 6, 15)},\n",
    "            {\"item\": \"seeds\", \"price\": 50, \"date\": datetime(2024, 7, 12)},\n",
    "        ],\n",
    "    },\n",
    "    {\n",
    "        \"name\": \"Grace\",\n",
    "        \"age\": 27,\n",
    "        \"city\": \"Fortaleza\",\n",
    "        \"hobbies\": [\"running\", \"reading\"],\n",
    "        \"purchases\": [\n",
    "            {\"item\": \"running shoes\", \"price\": 300, \"date\": datetime(2024, 5, 10)},\n",
    "            {\"item\": \"e-book reader\", \"price\": 700, \"date\": datetime(2024, 8, 25)},\n",
    "        ],\n",
    "    },\n",
    "    {\n",
    "        \"name\": \"Henry\",\n",
    "        \"age\": 33,\n",
    "        \"city\": \"Brasília\",\n",
    "        \"hobbies\": [\"cycling\", \"photography\"],\n",
    "        \"purchases\": [\n",
    "            {\"item\": \"bicycle\", \"price\": 1200, \"date\": datetime(2024, 4, 8)},\n",
    "            {\"item\": \"tripod\", \"price\": 150, \"date\": datetime(2024, 10, 12)},\n",
    "        ],\n",
    "    },\n",
    "    {\n",
    "        \"name\": \"Ivy\",\n",
    "        \"age\": 29,\n",
    "        \"city\": \"Salvador\",\n",
    "        \"hobbies\": [\"painting\", \"dancing\"],\n",
    "        \"purchases\": [\n",
    "            {\"item\": \"paint set\", \"price\": 200, \"date\": datetime(2024, 3, 21)},\n",
    "            {\"item\": \"dance shoes\", \"price\": 120, \"date\": datetime(2024, 9, 30)},\n",
    "        ],\n",
    "    },\n",
    "    {\n",
    "        \"name\": \"Jack\",\n",
    "        \"age\": 36,\n",
    "        \"city\": \"Manaus\",\n",
    "        \"hobbies\": [\"fishing\", \"hiking\"],\n",
    "        \"purchases\": [\n",
    "            {\"item\": \"fishing rod\", \"price\": 400, \"date\": datetime(2024, 7, 1)},\n",
    "            {\"item\": \"backpack\", \"price\": 350, \"date\": datetime(2024, 2, 14)},\n",
    "        ],\n",
    "    },\n",
    "    {\n",
    "        \"name\": \"Karen\",\n",
    "        \"age\": 31,\n",
    "        \"city\": \"Recife\",\n",
    "        \"hobbies\": [\"writing\", \"music\"],\n",
    "        \"purchases\": [\n",
    "            {\"item\": \"notebook\", \"price\": 200, \"date\": datetime(2024, 1, 20)},\n",
    "            {\"item\": \"keyboard\", \"price\": 600, \"date\": datetime(2024, 6, 7)},\n",
    "        ],\n",
    "    },\n",
    "    {\n",
    "        \"name\": \"Leo\",\n",
    "        \"age\": 38,\n",
    "        \"city\": \"Belém\",\n",
    "        \"hobbies\": [\"gaming\", \"coding\"],\n",
    "        \"purchases\": [\n",
    "            {\"item\": \"gaming chair\", \"price\": 1200, \"date\": datetime(2024, 8, 5)},\n",
    "            {\"item\": \"monitor\", \"price\": 2500, \"date\": datetime(2024, 12, 22)},\n",
    "        ],\n",
    "    },\n",
    "]\n",
    "\n",
    "result = collection.insert_many(documents)"
   ]
  },
  {
   "cell_type": "code",
   "execution_count": 29,
   "metadata": {},
   "outputs": [
    {
     "name": "stdout",
     "output_type": "stream",
     "text": [
      "Documentos inseridos: [ObjectId('6762d87f2b477157b34639c0'), ObjectId('6762d87f2b477157b34639c1'), ObjectId('6762d87f2b477157b34639c2'), ObjectId('6762d87f2b477157b34639c3'), ObjectId('6762d87f2b477157b34639c4'), ObjectId('6762d87f2b477157b34639c5'), ObjectId('6762d87f2b477157b34639c6'), ObjectId('6762d87f2b477157b34639c7'), ObjectId('6762d87f2b477157b34639c8'), ObjectId('6762d87f2b477157b34639c9'), ObjectId('6762d87f2b477157b34639ca'), ObjectId('6762d87f2b477157b34639cb')]\n"
     ]
    }
   ],
   "source": [
    "print(f\"Documentos inseridos: {result.inserted_ids}\")"
   ]
  },
  {
   "cell_type": "markdown",
   "metadata": {},
   "source": [
    "# Consulta campos aninhados e arrays."
   ]
  },
  {
   "cell_type": "code",
   "execution_count": 32,
   "metadata": {},
   "outputs": [
    {
     "name": "stdout",
     "output_type": "stream",
     "text": [
      "\n",
      "Usuários com hobbies que incluem 'traveling':\n",
      "{'_id': ObjectId('6762d87f2b477157b34639c0'), 'name': 'Alice', 'age': 25, 'city': 'São Paulo', 'hobbies': ['reading', 'traveling'], 'purchases': [{'item': 'book', 'price': 30, 'date': datetime.datetime(2024, 12, 10, 0, 0)}, {'item': 'laptop', 'price': 5000, 'date': datetime.datetime(2024, 11, 5, 0, 0)}]}\n",
      "{'_id': ObjectId('6762d87f2b477157b34639c2'), 'name': 'Charlie', 'age': 35, 'city': 'Belo Horizonte', 'hobbies': ['photography', 'traveling'], 'purchases': [{'item': 'camera', 'price': 3500, 'date': datetime.datetime(2024, 8, 20, 0, 0)}]}\n",
      "{'_id': ObjectId('6762d95c83e4282d74afda5f'), 'name': 'Alice', 'age': 25, 'city': 'São Paulo', 'hobbies': ['reading', 'traveling'], 'purchases': [{'item': 'book', 'price': 30, 'date': datetime.datetime(2024, 12, 10, 0, 0)}, {'item': 'laptop', 'price': 5000, 'date': datetime.datetime(2024, 11, 5, 0, 0)}]}\n"
     ]
    }
   ],
   "source": [
    "print(\"\\nUsuários com hobbies que incluem 'traveling':\")\n",
    "for doc in collection.find({\"hobbies\": \"traveling\"}):\n",
    "    print(doc)"
   ]
  },
  {
   "cell_type": "code",
   "execution_count": 30,
   "metadata": {},
   "outputs": [],
   "source": [
    "consulta = {\"name\": \"Alice\"}"
   ]
  },
  {
   "cell_type": "code",
   "execution_count": 35,
   "metadata": {},
   "outputs": [
    {
     "data": {
      "text/plain": [
       "{'_id': ObjectId('6762d87f2b477157b34639c0'),\n",
       " 'name': 'Alice',\n",
       " 'age': 25,\n",
       " 'city': 'São Paulo',\n",
       " 'hobbies': ['reading', 'traveling'],\n",
       " 'purchases': [{'item': 'book',\n",
       "   'price': 30,\n",
       "   'date': datetime.datetime(2024, 12, 10, 0, 0)},\n",
       "  {'item': 'laptop',\n",
       "   'price': 5000,\n",
       "   'date': datetime.datetime(2024, 11, 5, 0, 0)}]}"
      ]
     },
     "execution_count": 35,
     "metadata": {},
     "output_type": "execute_result"
    }
   ],
   "source": [
    "collection.find(consulta)[0]"
   ]
  },
  {
   "cell_type": "code",
   "execution_count": 31,
   "metadata": {},
   "outputs": [
    {
     "name": "stdout",
     "output_type": "stream",
     "text": [
      "{'_id': ObjectId('6762d87f2b477157b34639c0'), 'name': 'Alice', 'age': 25, 'city': 'São Paulo', 'hobbies': ['reading', 'traveling'], 'purchases': [{'item': 'book', 'price': 30, 'date': datetime.datetime(2024, 12, 10, 0, 0)}, {'item': 'laptop', 'price': 5000, 'date': datetime.datetime(2024, 11, 5, 0, 0)}]}\n"
     ]
    }
   ],
   "source": [
    "for doc in collection.find(consulta):\n",
    "    print(doc)"
   ]
  },
  {
   "cell_type": "markdown",
   "metadata": {},
   "source": [
    "# Exemplo avançado de agregação."
   ]
  },
  {
   "cell_type": "code",
   "execution_count": 36,
   "metadata": {},
   "outputs": [
    {
     "name": "stdout",
     "output_type": "stream",
     "text": [
      "\n",
      "Agregação avançada (gastos totais por usuário):\n",
      "{'_id': 'Alice', 'total_spent': 10060, 'average_spent': 2515.0, 'max_spent': 5000}\n",
      "{'_id': 'Leo', 'total_spent': 3700, 'average_spent': 1850.0, 'max_spent': 2500}\n",
      "{'_id': 'Charlie', 'total_spent': 3500, 'average_spent': 3500.0, 'max_spent': 3500}\n",
      "{'_id': 'Eve', 'total_spent': 2600, 'average_spent': 1300.0, 'max_spent': 2500}\n",
      "{'_id': 'Bob', 'total_spent': 1700, 'average_spent': 850.0, 'max_spent': 1500}\n",
      "{'_id': 'Henry', 'total_spent': 1350, 'average_spent': 675.0, 'max_spent': 1200}\n",
      "{'_id': 'Grace', 'total_spent': 1000, 'average_spent': 500.0, 'max_spent': 700}\n",
      "{'_id': 'Frank', 'total_spent': 850, 'average_spent': 425.0, 'max_spent': 800}\n",
      "{'_id': 'Karen', 'total_spent': 800, 'average_spent': 400.0, 'max_spent': 600}\n",
      "{'_id': 'Jack', 'total_spent': 750, 'average_spent': 375.0, 'max_spent': 400}\n",
      "{'_id': 'Diana', 'total_spent': 450, 'average_spent': 225.0, 'max_spent': 300}\n",
      "{'_id': 'Ivy', 'total_spent': 320, 'average_spent': 160.0, 'max_spent': 200}\n"
     ]
    }
   ],
   "source": [
    "pipeline = [\n",
    "    {\"$unwind\": \"$purchases\"},  # Expande o array de compras\n",
    "    {\"$group\": {\n",
    "        \"_id\": \"$name\",\n",
    "        \"total_spent\": {\"$sum\": \"$purchases.price\"},\n",
    "        \"average_spent\": {\"$avg\": \"$purchases.price\"},\n",
    "        \"max_spent\": {\"$max\": \"$purchases.price\"},\n",
    "    }},\n",
    "    {\"$sort\": {\"total_spent\": -1}},  # Ordena pelo total gasto (decrescente)\n",
    "]\n",
    "\n",
    "print(\"\\nAgregação avançada (gastos totais por usuário):\")\n",
    "for result in collection.aggregate(pipeline):\n",
    "    print(result)"
   ]
  },
  {
   "cell_type": "markdown",
   "metadata": {},
   "source": [
    "# Consultas específicas com arrays."
   ]
  },
  {
   "cell_type": "code",
   "execution_count": 38,
   "metadata": {},
   "outputs": [
    {
     "name": "stdout",
     "output_type": "stream",
     "text": [
      "\n",
      "Usuários com mais de uma compra:\n",
      "{'_id': ObjectId('6762d87f2b477157b34639c0'), 'name': 'Alice', 'age': 25, 'city': 'São Paulo', 'hobbies': ['reading', 'traveling'], 'purchases': [{'item': 'book', 'price': 30, 'date': datetime.datetime(2024, 12, 10, 0, 0)}, {'item': 'laptop', 'price': 5000, 'date': datetime.datetime(2024, 11, 5, 0, 0)}]}\n",
      "{'_id': ObjectId('6762d87f2b477157b34639c1'), 'name': 'Bob', 'age': 30, 'city': 'Rio de Janeiro', 'hobbies': ['sports', 'music'], 'purchases': [{'item': 'guitar', 'price': 1500, 'date': datetime.datetime(2024, 10, 15, 0, 0)}, {'item': 'headphones', 'price': 200, 'date': datetime.datetime(2024, 12, 1, 0, 0)}]}\n",
      "{'_id': ObjectId('6762d87f2b477157b34639c3'), 'name': 'Diana', 'age': 28, 'city': 'Curitiba', 'hobbies': ['cooking', 'dancing'], 'purchases': [{'item': 'mixer', 'price': 300, 'date': datetime.datetime(2024, 9, 10, 0, 0)}, {'item': 'shoes', 'price': 150, 'date': datetime.datetime(2024, 10, 1, 0, 0)}]}\n",
      "{'_id': ObjectId('6762d87f2b477157b34639c4'), 'name': 'Eve', 'age': 22, 'city': 'Florianópolis', 'hobbies': ['surfing', 'yoga'], 'purchases': [{'item': 'surfboard', 'price': 2500, 'date': datetime.datetime(2024, 11, 18, 0, 0)}, {'item': 'yoga mat', 'price': 100, 'date': datetime.datetime(2024, 9, 5, 0, 0)}]}\n",
      "{'_id': ObjectId('6762d87f2b477157b34639c5'), 'name': 'Frank', 'age': 40, 'city': 'Porto Alegre', 'hobbies': ['gardening', 'cooking'], 'purchases': [{'item': 'grill', 'price': 800, 'date': datetime.datetime(2024, 6, 15, 0, 0)}, {'item': 'seeds', 'price': 50, 'date': datetime.datetime(2024, 7, 12, 0, 0)}]}\n",
      "{'_id': ObjectId('6762d87f2b477157b34639c6'), 'name': 'Grace', 'age': 27, 'city': 'Fortaleza', 'hobbies': ['running', 'reading'], 'purchases': [{'item': 'running shoes', 'price': 300, 'date': datetime.datetime(2024, 5, 10, 0, 0)}, {'item': 'e-book reader', 'price': 700, 'date': datetime.datetime(2024, 8, 25, 0, 0)}]}\n",
      "{'_id': ObjectId('6762d87f2b477157b34639c7'), 'name': 'Henry', 'age': 33, 'city': 'Brasília', 'hobbies': ['cycling', 'photography'], 'purchases': [{'item': 'bicycle', 'price': 1200, 'date': datetime.datetime(2024, 4, 8, 0, 0)}, {'item': 'tripod', 'price': 150, 'date': datetime.datetime(2024, 10, 12, 0, 0)}]}\n",
      "{'_id': ObjectId('6762d87f2b477157b34639c8'), 'name': 'Ivy', 'age': 29, 'city': 'Salvador', 'hobbies': ['painting', 'dancing'], 'purchases': [{'item': 'paint set', 'price': 200, 'date': datetime.datetime(2024, 3, 21, 0, 0)}, {'item': 'dance shoes', 'price': 120, 'date': datetime.datetime(2024, 9, 30, 0, 0)}]}\n",
      "{'_id': ObjectId('6762d87f2b477157b34639c9'), 'name': 'Jack', 'age': 36, 'city': 'Manaus', 'hobbies': ['fishing', 'hiking'], 'purchases': [{'item': 'fishing rod', 'price': 400, 'date': datetime.datetime(2024, 7, 1, 0, 0)}, {'item': 'backpack', 'price': 350, 'date': datetime.datetime(2024, 2, 14, 0, 0)}]}\n",
      "{'_id': ObjectId('6762d87f2b477157b34639ca'), 'name': 'Karen', 'age': 31, 'city': 'Recife', 'hobbies': ['writing', 'music'], 'purchases': [{'item': 'notebook', 'price': 200, 'date': datetime.datetime(2024, 1, 20, 0, 0)}, {'item': 'keyboard', 'price': 600, 'date': datetime.datetime(2024, 6, 7, 0, 0)}]}\n",
      "{'_id': ObjectId('6762d87f2b477157b34639cb'), 'name': 'Leo', 'age': 38, 'city': 'Belém', 'hobbies': ['gaming', 'coding'], 'purchases': [{'item': 'gaming chair', 'price': 1200, 'date': datetime.datetime(2024, 8, 5, 0, 0)}, {'item': 'monitor', 'price': 2500, 'date': datetime.datetime(2024, 12, 22, 0, 0)}]}\n",
      "{'_id': ObjectId('6762d95c83e4282d74afda5f'), 'name': 'Alice', 'age': 25, 'city': 'São Paulo', 'hobbies': ['reading', 'traveling'], 'purchases': [{'item': 'book', 'price': 30, 'date': datetime.datetime(2024, 12, 10, 0, 0)}, {'item': 'laptop', 'price': 5000, 'date': datetime.datetime(2024, 11, 5, 0, 0)}]}\n"
     ]
    }
   ],
   "source": [
    "print(\"\\nUsuários com mais de uma compra:\")\n",
    "for doc in collection.find({\"$expr\": {\"$gte\": [{\"$size\": \"$purchases\"}, 2]}}):\n",
    "    print(doc)"
   ]
  },
  {
   "cell_type": "code",
   "execution_count": 39,
   "metadata": {},
   "outputs": [
    {
     "name": "stdout",
     "output_type": "stream",
     "text": [
      "\n",
      "Usuários que compraram algo em Outubro de 2024:\n",
      "{'_id': ObjectId('6762d87f2b477157b34639c1'), 'name': 'Bob', 'age': 30, 'city': 'Rio de Janeiro', 'hobbies': ['sports', 'music'], 'purchases': [{'item': 'guitar', 'price': 1500, 'date': datetime.datetime(2024, 10, 15, 0, 0)}, {'item': 'headphones', 'price': 200, 'date': datetime.datetime(2024, 12, 1, 0, 0)}]}\n",
      "{'_id': ObjectId('6762d87f2b477157b34639c3'), 'name': 'Diana', 'age': 28, 'city': 'Curitiba', 'hobbies': ['cooking', 'dancing'], 'purchases': [{'item': 'mixer', 'price': 300, 'date': datetime.datetime(2024, 9, 10, 0, 0)}, {'item': 'shoes', 'price': 150, 'date': datetime.datetime(2024, 10, 1, 0, 0)}]}\n",
      "{'_id': ObjectId('6762d87f2b477157b34639c4'), 'name': 'Eve', 'age': 22, 'city': 'Florianópolis', 'hobbies': ['surfing', 'yoga'], 'purchases': [{'item': 'surfboard', 'price': 2500, 'date': datetime.datetime(2024, 11, 18, 0, 0)}, {'item': 'yoga mat', 'price': 100, 'date': datetime.datetime(2024, 9, 5, 0, 0)}]}\n",
      "{'_id': ObjectId('6762d87f2b477157b34639c7'), 'name': 'Henry', 'age': 33, 'city': 'Brasília', 'hobbies': ['cycling', 'photography'], 'purchases': [{'item': 'bicycle', 'price': 1200, 'date': datetime.datetime(2024, 4, 8, 0, 0)}, {'item': 'tripod', 'price': 150, 'date': datetime.datetime(2024, 10, 12, 0, 0)}]}\n",
      "{'_id': ObjectId('6762d87f2b477157b34639cb'), 'name': 'Leo', 'age': 38, 'city': 'Belém', 'hobbies': ['gaming', 'coding'], 'purchases': [{'item': 'gaming chair', 'price': 1200, 'date': datetime.datetime(2024, 8, 5, 0, 0)}, {'item': 'monitor', 'price': 2500, 'date': datetime.datetime(2024, 12, 22, 0, 0)}]}\n"
     ]
    }
   ],
   "source": [
    "print(\"\\nUsuários que compraram algo em Outubro de 2024:\")\n",
    "for doc in collection.find({\"purchases.date\": {\n",
    "    \"$gte\": datetime(2024, 10, 1),\n",
    "    \"$lt\": datetime(2024, 11, 1),\n",
    "}}):\n",
    "    print(doc)"
   ]
  },
  {
   "cell_type": "code",
   "execution_count": 41,
   "metadata": {},
   "outputs": [
    {
     "name": "stdout",
     "output_type": "stream",
     "text": [
      "{'_id': ObjectId('6762d87f2b477157b34639c0'), 'name': 'Alice', 'age': 25, 'city': 'São Paulo', 'hobbies': ['reading', 'traveling'], 'purchases': [{'item': 'book', 'price': 30, 'date': datetime.datetime(2024, 12, 10, 0, 0)}, {'item': 'laptop', 'price': 5000, 'date': datetime.datetime(2024, 11, 5, 0, 0)}]}\n",
      "{'_id': ObjectId('6762d87f2b477157b34639c1'), 'name': 'Bob', 'age': 30, 'city': 'Rio de Janeiro', 'hobbies': ['sports', 'music'], 'purchases': [{'item': 'guitar', 'price': 1500, 'date': datetime.datetime(2024, 10, 15, 0, 0)}, {'item': 'headphones', 'price': 200, 'date': datetime.datetime(2024, 12, 1, 0, 0)}]}\n",
      "{'_id': ObjectId('6762d87f2b477157b34639c3'), 'name': 'Diana', 'age': 28, 'city': 'Curitiba', 'hobbies': ['cooking', 'dancing'], 'purchases': [{'item': 'mixer', 'price': 300, 'date': datetime.datetime(2024, 9, 10, 0, 0)}, {'item': 'shoes', 'price': 150, 'date': datetime.datetime(2024, 10, 1, 0, 0)}]}\n",
      "{'_id': ObjectId('6762d95c83e4282d74afda5f'), 'name': 'Alice', 'age': 25, 'city': 'São Paulo', 'hobbies': ['reading', 'traveling'], 'purchases': [{'item': 'book', 'price': 30, 'date': datetime.datetime(2024, 12, 10, 0, 0)}, {'item': 'laptop', 'price': 5000, 'date': datetime.datetime(2024, 11, 5, 0, 0)}]}\n"
     ]
    }
   ],
   "source": [
    "for doc in collection.find({\n",
    "    \"city\": {\"$in\": [\"São Paulo\", \"Rio de Janeiro\", \"Curitiba\"]}\n",
    "}):\n",
    "    print(doc)"
   ]
  },
  {
   "cell_type": "code",
   "execution_count": 43,
   "metadata": {},
   "outputs": [
    {
     "name": "stdout",
     "output_type": "stream",
     "text": [
      "{'_id': ObjectId('6762d87f2b477157b34639c2'), 'name': 'Charlie', 'age': 35, 'city': 'Belo Horizonte', 'hobbies': ['photography', 'traveling'], 'purchases': [{'item': 'camera', 'price': 3500, 'date': datetime.datetime(2024, 8, 20, 0, 0)}]}\n",
      "{'_id': ObjectId('6762d87f2b477157b34639c3'), 'name': 'Diana', 'age': 28, 'city': 'Curitiba', 'hobbies': ['cooking', 'dancing'], 'purchases': [{'item': 'mixer', 'price': 300, 'date': datetime.datetime(2024, 9, 10, 0, 0)}, {'item': 'shoes', 'price': 150, 'date': datetime.datetime(2024, 10, 1, 0, 0)}]}\n",
      "{'_id': ObjectId('6762d87f2b477157b34639c4'), 'name': 'Eve', 'age': 22, 'city': 'Florianópolis', 'hobbies': ['surfing', 'yoga'], 'purchases': [{'item': 'surfboard', 'price': 2500, 'date': datetime.datetime(2024, 11, 18, 0, 0)}, {'item': 'yoga mat', 'price': 100, 'date': datetime.datetime(2024, 9, 5, 0, 0)}]}\n",
      "{'_id': ObjectId('6762d87f2b477157b34639c5'), 'name': 'Frank', 'age': 40, 'city': 'Porto Alegre', 'hobbies': ['gardening', 'cooking'], 'purchases': [{'item': 'grill', 'price': 800, 'date': datetime.datetime(2024, 6, 15, 0, 0)}, {'item': 'seeds', 'price': 50, 'date': datetime.datetime(2024, 7, 12, 0, 0)}]}\n",
      "{'_id': ObjectId('6762d87f2b477157b34639c6'), 'name': 'Grace', 'age': 27, 'city': 'Fortaleza', 'hobbies': ['running', 'reading'], 'purchases': [{'item': 'running shoes', 'price': 300, 'date': datetime.datetime(2024, 5, 10, 0, 0)}, {'item': 'e-book reader', 'price': 700, 'date': datetime.datetime(2024, 8, 25, 0, 0)}]}\n",
      "{'_id': ObjectId('6762d87f2b477157b34639c7'), 'name': 'Henry', 'age': 33, 'city': 'Brasília', 'hobbies': ['cycling', 'photography'], 'purchases': [{'item': 'bicycle', 'price': 1200, 'date': datetime.datetime(2024, 4, 8, 0, 0)}, {'item': 'tripod', 'price': 150, 'date': datetime.datetime(2024, 10, 12, 0, 0)}]}\n",
      "{'_id': ObjectId('6762d87f2b477157b34639c8'), 'name': 'Ivy', 'age': 29, 'city': 'Salvador', 'hobbies': ['painting', 'dancing'], 'purchases': [{'item': 'paint set', 'price': 200, 'date': datetime.datetime(2024, 3, 21, 0, 0)}, {'item': 'dance shoes', 'price': 120, 'date': datetime.datetime(2024, 9, 30, 0, 0)}]}\n",
      "{'_id': ObjectId('6762d87f2b477157b34639c9'), 'name': 'Jack', 'age': 36, 'city': 'Manaus', 'hobbies': ['fishing', 'hiking'], 'purchases': [{'item': 'fishing rod', 'price': 400, 'date': datetime.datetime(2024, 7, 1, 0, 0)}, {'item': 'backpack', 'price': 350, 'date': datetime.datetime(2024, 2, 14, 0, 0)}]}\n",
      "{'_id': ObjectId('6762d87f2b477157b34639ca'), 'name': 'Karen', 'age': 31, 'city': 'Recife', 'hobbies': ['writing', 'music'], 'purchases': [{'item': 'notebook', 'price': 200, 'date': datetime.datetime(2024, 1, 20, 0, 0)}, {'item': 'keyboard', 'price': 600, 'date': datetime.datetime(2024, 6, 7, 0, 0)}]}\n",
      "{'_id': ObjectId('6762d87f2b477157b34639cb'), 'name': 'Leo', 'age': 38, 'city': 'Belém', 'hobbies': ['gaming', 'coding'], 'purchases': [{'item': 'gaming chair', 'price': 1200, 'date': datetime.datetime(2024, 8, 5, 0, 0)}, {'item': 'monitor', 'price': 2500, 'date': datetime.datetime(2024, 12, 22, 0, 0)}]}\n"
     ]
    }
   ],
   "source": [
    "for doc in collection.find({\n",
    "    \"city\": {\"$nin\": [\"São Paulo\", \"Rio de Janeiro\"]}\n",
    "}):\n",
    "    print(doc)"
   ]
  },
  {
   "cell_type": "code",
   "execution_count": 45,
   "metadata": {},
   "outputs": [
    {
     "name": "stdout",
     "output_type": "stream",
     "text": [
      "{'_id': ObjectId('6762d87f2b477157b34639c0'), 'name': 'Alice', 'age': 25, 'city': 'São Paulo', 'hobbies': ['reading', 'traveling'], 'purchases': [{'item': 'book', 'price': 30, 'date': datetime.datetime(2024, 12, 10, 0, 0)}, {'item': 'laptop', 'price': 5000, 'date': datetime.datetime(2024, 11, 5, 0, 0)}]}\n",
      "{'_id': ObjectId('6762d87f2b477157b34639c3'), 'name': 'Diana', 'age': 28, 'city': 'Curitiba', 'hobbies': ['cooking', 'dancing'], 'purchases': [{'item': 'mixer', 'price': 300, 'date': datetime.datetime(2024, 9, 10, 0, 0)}, {'item': 'shoes', 'price': 150, 'date': datetime.datetime(2024, 10, 1, 0, 0)}]}\n",
      "{'_id': ObjectId('6762d95c83e4282d74afda5f'), 'name': 'Alice', 'age': 25, 'city': 'São Paulo', 'hobbies': ['reading', 'traveling'], 'purchases': [{'item': 'book', 'price': 30, 'date': datetime.datetime(2024, 12, 10, 0, 0)}, {'item': 'laptop', 'price': 5000, 'date': datetime.datetime(2024, 11, 5, 0, 0)}]}\n"
     ]
    }
   ],
   "source": [
    "for doc in collection.find({\n",
    "    \"$and\": [\n",
    "        {\"city\": {\"$in\": [\"São Paulo\", \"Curitiba\"]}},\n",
    "        {\"age\": {\"$gte\": 25}}\n",
    "    ]\n",
    "}):\n",
    "    print(doc)"
   ]
  },
  {
   "cell_type": "code",
   "execution_count": 46,
   "metadata": {},
   "outputs": [
    {
     "name": "stdout",
     "output_type": "stream",
     "text": [
      "{'_id': ObjectId('6762d87f2b477157b34639c0'), 'name': 'Alice', 'age': 25, 'city': 'São Paulo', 'hobbies': ['reading', 'traveling'], 'purchases': [{'item': 'book', 'price': 30, 'date': datetime.datetime(2024, 12, 10, 0, 0)}, {'item': 'laptop', 'price': 5000, 'date': datetime.datetime(2024, 11, 5, 0, 0)}]}\n",
      "{'_id': ObjectId('6762d87f2b477157b34639c2'), 'name': 'Charlie', 'age': 35, 'city': 'Belo Horizonte', 'hobbies': ['photography', 'traveling'], 'purchases': [{'item': 'camera', 'price': 3500, 'date': datetime.datetime(2024, 8, 20, 0, 0)}]}\n",
      "{'_id': ObjectId('6762d87f2b477157b34639c3'), 'name': 'Diana', 'age': 28, 'city': 'Curitiba', 'hobbies': ['cooking', 'dancing'], 'purchases': [{'item': 'mixer', 'price': 300, 'date': datetime.datetime(2024, 9, 10, 0, 0)}, {'item': 'shoes', 'price': 150, 'date': datetime.datetime(2024, 10, 1, 0, 0)}]}\n",
      "{'_id': ObjectId('6762d87f2b477157b34639c4'), 'name': 'Eve', 'age': 22, 'city': 'Florianópolis', 'hobbies': ['surfing', 'yoga'], 'purchases': [{'item': 'surfboard', 'price': 2500, 'date': datetime.datetime(2024, 11, 18, 0, 0)}, {'item': 'yoga mat', 'price': 100, 'date': datetime.datetime(2024, 9, 5, 0, 0)}]}\n",
      "{'_id': ObjectId('6762d87f2b477157b34639c6'), 'name': 'Grace', 'age': 27, 'city': 'Fortaleza', 'hobbies': ['running', 'reading'], 'purchases': [{'item': 'running shoes', 'price': 300, 'date': datetime.datetime(2024, 5, 10, 0, 0)}, {'item': 'e-book reader', 'price': 700, 'date': datetime.datetime(2024, 8, 25, 0, 0)}]}\n",
      "{'_id': ObjectId('6762d87f2b477157b34639c8'), 'name': 'Ivy', 'age': 29, 'city': 'Salvador', 'hobbies': ['painting', 'dancing'], 'purchases': [{'item': 'paint set', 'price': 200, 'date': datetime.datetime(2024, 3, 21, 0, 0)}, {'item': 'dance shoes', 'price': 120, 'date': datetime.datetime(2024, 9, 30, 0, 0)}]}\n",
      "{'_id': ObjectId('6762d95c83e4282d74afda5f'), 'name': 'Alice', 'age': 25, 'city': 'São Paulo', 'hobbies': ['reading', 'traveling'], 'purchases': [{'item': 'book', 'price': 30, 'date': datetime.datetime(2024, 12, 10, 0, 0)}, {'item': 'laptop', 'price': 5000, 'date': datetime.datetime(2024, 11, 5, 0, 0)}]}\n"
     ]
    }
   ],
   "source": [
    "for doc in collection.find({\n",
    "    \"$or\": [\n",
    "        {\"age\": {\"$lt\": 30}},\n",
    "        {\"hobbies\": \"traveling\"}\n",
    "    ],\n",
    "    \"city\": {\"$nin\": [\"Rio de Janeiro\"]}\n",
    "}):\n",
    "    print(doc)"
   ]
  },
  {
   "cell_type": "markdown",
   "metadata": {},
   "source": [
    "# Atualizações em campos específicos e arrays."
   ]
  },
  {
   "cell_type": "code",
   "execution_count": 13,
   "metadata": {},
   "outputs": [
    {
     "name": "stdout",
     "output_type": "stream",
     "text": [
      "\n",
      "Documentos atualizados: 1\n"
     ]
    }
   ],
   "source": [
    "result = collection.update(\n",
    "        {\"name\": \"Alice\"},\n",
    "        {\"$push\": {\"purchases\": {\"item\": \"phone\", \"price\": 2000, \"date\": datetime(2024, 12, 15)}}}\n",
    "    )\n",
    "print(f\"\\nDocumentos atualizados: {result.modified_count}\")"
   ]
  },
  {
   "cell_type": "code",
   "execution_count": 14,
   "metadata": {},
   "outputs": [
    {
     "name": "stdout",
     "output_type": "stream",
     "text": [
      "{'_id': ObjectId('6762c7d03da68654183eaf7c'), 'name': 'Alice', 'age': 18, 'city': 'São Paulo', 'hobbies': ['reading', 'traveling'], 'purchases': [{'item': 'book', 'price': 30, 'date': datetime.datetime(2024, 12, 10, 0, 0)}, {'item': 'laptop', 'price': 5000, 'date': datetime.datetime(2024, 11, 5, 0, 0)}, {'item': 'phone', 'price': 2000, 'date': datetime.datetime(2024, 12, 15, 0, 0)}, {'item': 'phone', 'price': 2000, 'date': datetime.datetime(2024, 12, 15, 0, 0)}]}\n",
      "{'_id': ObjectId('6762c97b19eadc1e843781aa'), 'name': 'Alice', 'age': 18, 'city': 'São Paulo', 'hobbies': ['reading', 'traveling'], 'purchases': [{'item': 'book', 'price': 30, 'date': datetime.datetime(2024, 12, 10, 0, 0)}, {'item': 'laptop', 'price': 5000, 'date': datetime.datetime(2024, 11, 5, 0, 0)}]}\n",
      "{'_id': ObjectId('6762ce2d2b477157b34639a8'), 'name': 'Alice', 'age': 25, 'city': 'São Paulo', 'hobbies': ['reading', 'traveling'], 'purchases': [{'item': 'book', 'price': 30, 'date': datetime.datetime(2024, 12, 10, 0, 0)}, {'item': 'laptop', 'price': 5000, 'date': datetime.datetime(2024, 11, 5, 0, 0)}]}\n"
     ]
    }
   ],
   "source": [
    "for doc in collection.find({\"name\": \"Alice\"}):\n",
    "    print(doc)"
   ]
  },
  {
   "cell_type": "markdown",
   "metadata": {},
   "source": [
    "# Exclusão baseada em critérios complexos."
   ]
  },
  {
   "cell_type": "code",
   "execution_count": 15,
   "metadata": {},
   "outputs": [
    {
     "name": "stdout",
     "output_type": "stream",
     "text": [
      "\n",
      "Documentos excluídos: 5\n"
     ]
    }
   ],
   "source": [
    "result = collection.delete_many({\"purchases.price\": {\"$gt\": 3000}})\n",
    "print(f\"\\nDocumentos excluídos: {result.deleted_count}\")"
   ]
  }
 ],
 "metadata": {
  "kernelspec": {
   "display_name": ".venv",
   "language": "python",
   "name": "python3"
  },
  "language_info": {
   "codemirror_mode": {
    "name": "ipython",
    "version": 3
   },
   "file_extension": ".py",
   "mimetype": "text/x-python",
   "name": "python",
   "nbconvert_exporter": "python",
   "pygments_lexer": "ipython3",
   "version": "3.10.12"
  }
 },
 "nbformat": 4,
 "nbformat_minor": 2
}
